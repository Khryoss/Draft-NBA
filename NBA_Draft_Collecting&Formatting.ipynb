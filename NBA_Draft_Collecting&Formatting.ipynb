{
 "cells": [
  {
   "cell_type": "code",
   "execution_count": 1,
   "id": "informative-pipeline",
   "metadata": {},
   "outputs": [],
   "source": [
    "### NBA DRAFT ANALYSIS"
   ]
  },
  {
   "cell_type": "code",
   "execution_count": 1,
   "id": "tamil-belgium",
   "metadata": {},
   "outputs": [
    {
     "ename": "SyntaxError",
     "evalue": "invalid syntax (<ipython-input-1-3bf1c1c0f910>, line 1)",
     "output_type": "error",
     "traceback": [
      "\u001b[1;36m  File \u001b[1;32m\"<ipython-input-1-3bf1c1c0f910>\"\u001b[1;36m, line \u001b[1;32m1\u001b[0m\n\u001b[1;33m    1955 joueurs sans stats du collège dont :\u001b[0m\n\u001b[1;37m         ^\u001b[0m\n\u001b[1;31mSyntaxError\u001b[0m\u001b[1;31m:\u001b[0m invalid syntax\n"
     ]
    }
   ],
   "source": [
    "1955 joueurs sans stats du collège dont :\n",
    "- 1126 joueurs draftés avant 1997 année avant laquelle le site de la NBA n'a pas de stats collège\n",
    "- 286 joueurs sans profil NBA -> joueurs ayant été draftés mais sans aucune minute en NBA\n",
    "- 543 joueurs draftés à partir de 1997 qui n'ont pas de stats collège (draftés directement depuis High School ou joueurs internationaux)"
   ]
  },
  {
   "cell_type": "code",
   "execution_count": 2,
   "id": "north-vanilla",
   "metadata": {},
   "outputs": [],
   "source": [
    "# Importation des librairies utilisées\n",
    "import pandas as pd\n",
    "from dateutil.parser import parse\n",
    "from datetime import timedelta\n",
    "import numpy as np\n",
    "import csv\n",
    "import re"
   ]
  },
  {
   "cell_type": "code",
   "execution_count": 3,
   "id": "minor-landscape",
   "metadata": {},
   "outputs": [
    {
     "name": "stdout",
     "output_type": "stream",
     "text": [
      "        ID             Player Name      Drafting Team             NBA profile  \\\n",
      "0        1              Bob Lanier    Detroit Pistons   /stats/player/600005/   \n",
      "1        2        Rudy Tomjanovich  San Diego Rockets    /stats/player/78350/   \n",
      "2        3           Pete Maravich      Atlanta Hawks    /stats/player/77459/   \n",
      "3        4             Dave Cowens     Boston Celtics    /stats/player/76462/   \n",
      "4        5               Sam Lacey  Cincinnati Royals    /stats/player/77326/   \n",
      "...    ...                     ...                ...                     ...   \n",
      "2495  2496     Talen Horton-Tucker      Orlando Magic  /stats/player/1629659/   \n",
      "2496  2497        Ignas Brazdeikis   Sacramento Kings  /stats/player/1629649/   \n",
      "2497  2498            Terance Mann        LA Clippers  /stats/player/1629611/   \n",
      "2498  2499  Quinndary Weatherspoon  San Antonio Spurs  /stats/player/1629683/   \n",
      "2499  2500        Jarrell Brantley     Indiana Pacers  /stats/player/1629714/   \n",
      "\n",
      "      College / High School  Draft Year  Pick N�         Position Nationality  \\\n",
      "0           St. Bonaventure        1970        1         | Center         USA   \n",
      "1                  Michigan        1970        2        | Forward         USA   \n",
      "2           Louisiana State        1970        3          | Guard         USA   \n",
      "3             Florida State        1970        4         | Center         USA   \n",
      "4          New Mexico State        1970        5         | Center         USA   \n",
      "...                     ...         ...      ...              ...         ...   \n",
      "2495             Iowa State        2019       46          | Guard         USA   \n",
      "2496               Michigan        2019       47        | Forward      Canada   \n",
      "2497          Florida State        2019       48  | Guard-Forward         USA   \n",
      "2498      Mississippi State        2019       49          | Guard         USA   \n",
      "2499  College of Charleston        2019       50        | Forward         USA   \n",
      "\n",
      "         Birthdate  ...  CO RPG  CO APG  CO SPG  CO BPG  CO TOPG  MVP Awards  \\\n",
      "0     Sep 10, 1948  ...     NaN     NaN     NaN     NaN      NaN           0   \n",
      "1     Nov 24, 1948  ...     NaN     NaN     NaN     NaN      NaN           0   \n",
      "2     Jun 22, 1947  ...     NaN     NaN     NaN     NaN      NaN           0   \n",
      "3     Oct 25, 1948  ...     NaN     NaN     NaN     NaN      NaN           0   \n",
      "4     Mar 28, 1948  ...     NaN     NaN     NaN     NaN      NaN           0   \n",
      "...            ...  ...     ...     ...     ...     ...      ...         ...   \n",
      "2495  Nov 25, 2000  ...     4.9     2.3     1.3     0.7      1.7           0   \n",
      "2496  Jan 08, 1999  ...     5.4     0.8     0.7     0.5      1.2           0   \n",
      "2497  Oct 18, 1996  ...     6.5     2.5     0.7     0.3      1.8           0   \n",
      "2498  Sep 10, 1996  ...     4.7     2.8     1.7     0.3      2.9           0   \n",
      "2499  Jun 07, 1996  ...     8.4     2.4     1.4     0.9      2.6           0   \n",
      "\n",
      "      All-NBA Selections  All-Defensive selections  Finals MVP Awards  \\\n",
      "0                      0                         0                  0   \n",
      "1                      0                         0                  0   \n",
      "2                      0                         0                  0   \n",
      "3                      0                         0                  0   \n",
      "4                      0                         0                  0   \n",
      "...                  ...                       ...                ...   \n",
      "2495                   0                         0                  0   \n",
      "2496                   0                         0                  0   \n",
      "2497                   0                         0                  0   \n",
      "2498                   0                         0                  0   \n",
      "2499                   0                         0                  0   \n",
      "\n",
      "      Hall of Fame Inductee  \n",
      "0                         0  \n",
      "1                         0  \n",
      "2                         0  \n",
      "3                         0  \n",
      "4                         0  \n",
      "...                     ...  \n",
      "2495                      0  \n",
      "2496                      0  \n",
      "2497                      0  \n",
      "2498                      0  \n",
      "2499                      0  \n",
      "\n",
      "[2500 rows x 62 columns]\n"
     ]
    }
   ],
   "source": [
    "# Sauvegarde des données CSV dans un dataframe pandas\n",
    "df = pd.read_csv(\"Webscrapping_Draft_NBA.csv\")\n",
    "print(df)"
   ]
  },
  {
   "cell_type": "code",
   "execution_count": 7,
   "id": "interstate-award",
   "metadata": {},
   "outputs": [],
   "source": [
    "missing_college = df[df[\"CO GP\"] == 0]"
   ]
  },
  {
   "cell_type": "code",
   "execution_count": 8,
   "id": "civilian-lover",
   "metadata": {},
   "outputs": [],
   "source": [
    "# Saving to CSV\n",
    "missing_college.to_csv(\"Missing_college_2.csv\")"
   ]
  },
  {
   "cell_type": "code",
   "execution_count": 45,
   "id": "extreme-secretary",
   "metadata": {},
   "outputs": [],
   "source": [
    "df4 = pd.read_csv(\"Webscrapping_Draft_NBA.csv\")\n",
    "df5 = pd.read_csv(\"Webscrapping_Draft_NBA2.csv\")"
   ]
  },
  {
   "cell_type": "code",
   "execution_count": 30,
   "id": "blond-clarity",
   "metadata": {},
   "outputs": [],
   "source": [
    "# Added a ID column to the draft_nba csv therefore reloading it\n",
    "df = pd.read_csv(\"Draft_NBA_v2.csv\")\n",
    "df2 = pd.read_csv(\"Completed_draft.csv\")\n",
    "df3 = pd.read_csv(\"Webscrapping_college.csv\")"
   ]
  },
  {
   "cell_type": "code",
   "execution_count": 64,
   "id": "exact-journey",
   "metadata": {},
   "outputs": [
    {
     "name": "stdout",
     "output_type": "stream",
     "text": [
      "223\n",
      "96\n"
     ]
    }
   ],
   "source": [
    "print(df[\"MVP Awards\"][df[\"MVP Awards\"] != '0'].count())\n",
    "print(df[\"All-NBA Selections\"][df[\"All-NBA Selections\"] != '0'].count())"
   ]
  },
  {
   "cell_type": "code",
   "execution_count": 65,
   "id": "adopted-feelings",
   "metadata": {},
   "outputs": [
    {
     "name": "stdout",
     "output_type": "stream",
     "text": [
      "235\n",
      "95\n"
     ]
    }
   ],
   "source": [
    "print(df5[\"MVP Awards\"][df5[\"MVP Awards\"] != '0'].count())\n",
    "print(df5[\"All-NBA Selections\"][df5[\"All-NBA Selections\"] != '0'].count())"
   ]
  },
  {
   "cell_type": "code",
   "execution_count": 53,
   "id": "visible-advocate",
   "metadata": {},
   "outputs": [
    {
     "data": {
      "text/plain": [
       "856245.0"
      ]
     },
     "execution_count": 53,
     "metadata": {},
     "output_type": "execute_result"
    }
   ],
   "source": [
    "df4_y = df4[df4[\"Draft Year\"] < 2020]\n",
    "df4_y[\"GP\"].sum()"
   ]
  },
  {
   "cell_type": "code",
   "execution_count": 54,
   "id": "bulgarian-vessel",
   "metadata": {},
   "outputs": [
    {
     "data": {
      "text/plain": [
       "856364.0"
      ]
     },
     "execution_count": 54,
     "metadata": {},
     "output_type": "execute_result"
    }
   ],
   "source": [
    "df5_y = df5[df5[\"Draft Year\"] < 2020]\n",
    "df5_y[\"GP\"].sum()"
   ]
  },
  {
   "cell_type": "code",
   "execution_count": 13,
   "id": "honey-basis",
   "metadata": {},
   "outputs": [],
   "source": [
    "# Removing first column of df2 which is useless to get the same structure for both dfs\n",
    "df2.drop(\"Line\", inplace = True, axis = 1)"
   ]
  },
  {
   "cell_type": "code",
   "execution_count": 14,
   "id": "particular-relevance",
   "metadata": {},
   "outputs": [],
   "source": [
    "# ID is a string in the first df, an int in the second -> conversion needed\n",
    "df[\"ID\"] = pd.to_numeric(df[\"ID\"])\n",
    "df2[\"ID\"] = pd.to_numeric(df2[\"ID\"])"
   ]
  },
  {
   "cell_type": "code",
   "execution_count": 15,
   "id": "neural-disease",
   "metadata": {},
   "outputs": [
    {
     "name": "stdout",
     "output_type": "stream",
     "text": [
      "664\n",
      "74\n",
      "286\n"
     ]
    }
   ],
   "source": [
    "print(df[\"ID\"][df[\"Position\"] == \"Pos Missing\"].count())\n",
    "print(df[\"ID\"][df[\"Height\"] == \"(0.00m)\"].count())\n",
    "print(df[\"ID\"][df[\"Height\"] == \"Height unknown\"].count())"
   ]
  },
  {
   "cell_type": "code",
   "execution_count": 16,
   "id": "paperback-functionality",
   "metadata": {},
   "outputs": [
    {
     "name": "stdout",
     "output_type": "stream",
     "text": [
      "4\n",
      "28\n",
      "0\n"
     ]
    }
   ],
   "source": [
    "print(df2[\"ID\"][df2[\"Height\"] == \"(0.00m)\"].count())\n",
    "print(df2[\"ID\"][df2[\"Height\"] == \"Height unknown\"].count())\n",
    "print(df2[\"ID\"][df2[\"Height\"] == \"Height still missing\"].count())"
   ]
  },
  {
   "cell_type": "code",
   "execution_count": 17,
   "id": "french-intervention",
   "metadata": {},
   "outputs": [
    {
     "data": {
      "text/plain": [
       "1955"
      ]
     },
     "execution_count": 17,
     "metadata": {},
     "output_type": "execute_result"
    }
   ],
   "source": [
    "df[\"ID\"][df[\"CO GP\"] == 0].count()"
   ]
  },
  {
   "cell_type": "code",
   "execution_count": 18,
   "id": "suffering-aggregate",
   "metadata": {},
   "outputs": [],
   "source": [
    "# Cleaning the CO GP column as the reason why the player has not played any game is indicated as a string\n",
    "number_rgx = \"[0-9]+\"\n",
    "\n",
    "# Looping through the column\n",
    "for i in range(0, df2[\"CO GP\"].count()):\n",
    "    # If the element doesn't match the number regex, replace it with 0\n",
    "    if re.search(number_rgx, df2.iloc[i, 36]) == None:\n",
    "        df2.iat[i, 36] = 0"
   ]
  },
  {
   "cell_type": "code",
   "execution_count": 19,
   "id": "imperial-dialogue",
   "metadata": {},
   "outputs": [],
   "source": [
    "# Cleaning the CO APG column as some strings have spaces within which prevents the conversion to float type (ex: \"3 .1\")\n",
    "for i in range(0, df2[\"CO APG\"].count()):\n",
    "    # Keeping only strings\n",
    "    if type(df2.iloc[i, 43]) != float:\n",
    "        # Checking if a space is present in it\n",
    "        if \" \" in df2.iloc[i, 43]:\n",
    "            # Removing it from the string\n",
    "            df2.iat[i, 43] = df2.iloc[i, 43].replace(\" \", \"\")\n"
   ]
  },
  {
   "cell_type": "code",
   "execution_count": 20,
   "id": "photographic-auckland",
   "metadata": {},
   "outputs": [],
   "source": [
    "# Formatting the CO 3PT% column as some strings are empty and can't be converted to float\n",
    "for i in range(0, df2[\"CO 3P%\"].count()):\n",
    "    if (df2.iloc[i, 40] == \" \"):\n",
    "        df2.iat[i, 40] = \"0.0\""
   ]
  },
  {
   "cell_type": "code",
   "execution_count": 21,
   "id": "handled-spine",
   "metadata": {},
   "outputs": [],
   "source": [
    "# Formatting columns as some strings are composed of --- and can't be converted to float\n",
    "for i in range(0, df2[\"ID\"].count()):\n",
    "    # CO BPG column\n",
    "    if df2.iloc[i, 45] == \"---\":\n",
    "        df2.iat[i, 45] = \"0.0\"\n",
    "    # CO PPG column\n",
    "    if df2.iloc[i, 38] == \"---\":\n",
    "        df2.iat[i, 38] = \"0.0\"\n",
    "    # CO FG%\n",
    "    if df2.iloc[i, 39] == \"---\":\n",
    "        df2.iat[i, 39] = \"0.0\"\n",
    "    # CO 3P%\n",
    "    if df2.iloc[i, 40] == \"---\":\n",
    "        df2.iat[i, 40] = \"0.0\"\n",
    "    # CO FT%\n",
    "    if df2.iloc[i, 41] == \"---\":\n",
    "        df2.iat[i, 41] = \"0.0\"\n",
    "    # CO RPG\n",
    "    if df2.iloc[i, 42] == \"---\":\n",
    "        df2.iat[i, 42] = \"0.0\"\n",
    "    # CO APG\n",
    "    if df2.iloc[i, 43] == \"---\":\n",
    "        df2.iat[i, 43] = \"0.0\"\n",
    "    # CO SPG\n",
    "    if df2.iloc[i, 44] == \"---\":\n",
    "        df2.iat[i, 44] = \"0.0\""
   ]
  },
  {
   "cell_type": "code",
   "execution_count": 22,
   "id": "empirical-andrew",
   "metadata": {},
   "outputs": [],
   "source": [
    "# Creating list of zeros matching the size of the first df\n",
    "zeros = [0] * 2500\n",
    "# Adding year before draft league to the fisrt df\n",
    "df[\"League Before Draft\"] = zeros\n",
    "# Converting column to string type\n",
    "df[\"League Before Draft\"] = df[\"League Before Draft\"].astype(str)"
   ]
  },
  {
   "cell_type": "code",
   "execution_count": 23,
   "id": "industrial-ordinance",
   "metadata": {},
   "outputs": [],
   "source": [
    "# Updating the first df with the values retrieved by the 2nd webscrapping\n",
    "# Looping through all records from 2nd df\n",
    "for i in range(0, 1955):\n",
    "    # Find the player in the first df ang get his index\n",
    "    index = df.loc[df[\"ID\"] == df2.iloc[i, 0]].index[0]\n",
    "    # If no NBA profile, updating value with college profile link\n",
    "    if df.iloc[index, 3] == \"No NBA profile\":\n",
    "        df.iat[index, 3] = df2.iloc[i, 3]\n",
    "    # If position is missing in the first df but present in the second, replace value in 1st\n",
    "    if df.iloc[index, 7] == \"Pos Missing\" and df2.iloc[i, 7] != \"Pos Missing\":\n",
    "        df.iat[index, 7] = df2.iloc[i, 7]\n",
    "    # Same for height\n",
    "    if (df.iloc[index, 10] == \"Height unknown\" or df.iloc[index, 10] == \"(0.00m)\") and (df2.iloc[i, 10] != \"Height unknown\" and df2.iloc[i, 10] != \"Height still missing\" and df2.iloc[i, 10] != \"(0.00m)\"):\n",
    "        df.iat[index, 10] = df2.iloc[i, 10]\n",
    "    # Same for weight\n",
    "    if (df.iloc[index, 11] == \"Weight unknown\" or df.iloc[index, 11] == \"(0kg)\") and (df2.iloc[i, 11] != \"Weight unknown\" and df2.iloc[i, 11] != \"Weight still missing\" and df2.iloc[i, 11] != \"(0kg)\"):\n",
    "        df.iat[index, 11] = df2.iloc[i, 11]\n",
    "    # Same for nationality\n",
    "    if df.iloc[index, 8] == \"Nationality unknown\" and df2.iloc[i, 8] != \"Nationality unknown\":\n",
    "        df.iat[index, 8] = df2.iloc[i, 8]\n",
    "    # Replacing all college stats if found in df2\n",
    "    # Games played\n",
    "    if df2.iloc[i, 36] != 0:\n",
    "        df.iat[index, 36] = df2.iloc[i, 36]\n",
    "    # Minutes per game\n",
    "    if df2.iloc[i, 37] != 0:\n",
    "        df.iat[index, 37] = df2.iloc[i, 37]\n",
    "    # Points per game\n",
    "    if df2.iloc[i, 38] != 0:\n",
    "        df.iat[index, 38] = df2.iloc[i, 38]\n",
    "    # Field goal %\n",
    "    if df2.iloc[i, 39] != 0:\n",
    "        df.iat[index, 39] = df2.iloc[i, 39]\n",
    "    # 3pt %\n",
    "    if df2.iloc[i, 40] != 0:\n",
    "        df.iat[index, 40] = df2.iloc[i, 40]\n",
    "    # Free-throw %\n",
    "    if df2.iloc[i, 41] != 0:\n",
    "        df.iat[index, 41] = df2.iloc[i, 41]\n",
    "    # Rebounds per game\n",
    "    if df2.iloc[i, 42] != 0:\n",
    "        df.iat[index, 42] = df2.iloc[i, 42]\n",
    "    # Assists per game\n",
    "    if df2.iloc[i, 43] != 0:\n",
    "        df.iat[index, 43] = df2.iloc[i, 43]\n",
    "    # Steals per game\n",
    "    if df2.iloc[i, 44] != 0:\n",
    "        df.iat[index, 44] = df2.iloc[i, 44]\n",
    "    # Blocks per game\n",
    "    if df2.iloc[i, 45] != 0:\n",
    "        df.iat[index, 45] = df2.iloc[i, 45]\n",
    "    # Turnovers per game\n",
    "    if df2.iloc[i, 46] != 0:\n",
    "        df.iat[index, 46] = df2.iloc[i, 46]\n",
    "    # League before draft\n",
    "    if df2.iloc[i, 52] != \"\":\n",
    "        df.iat[index, 52] = df2.iloc[i, 52]"
   ]
  },
  {
   "cell_type": "code",
   "execution_count": 27,
   "id": "atmospheric-tomorrow",
   "metadata": {},
   "outputs": [
    {
     "data": {
      "text/plain": [
       "0"
      ]
     },
     "execution_count": 27,
     "metadata": {},
     "output_type": "execute_result"
    }
   ],
   "source": [
    "df[\"League Before Draft\"][df[\"League Before Draft\"] == \"\"].count()"
   ]
  },
  {
   "cell_type": "code",
   "execution_count": 32,
   "id": "static-mixer",
   "metadata": {},
   "outputs": [
    {
     "data": {
      "text/plain": [
       "0"
      ]
     },
     "execution_count": 32,
     "metadata": {},
     "output_type": "execute_result"
    }
   ],
   "source": [
    "df3[\"League before Draft\"][df3[\"League before Draft\"] == \" \"].count()"
   ]
  },
  {
   "cell_type": "code",
   "execution_count": 26,
   "id": "knowing-stock",
   "metadata": {},
   "outputs": [
    {
     "data": {
      "text/plain": [
       "163"
      ]
     },
     "execution_count": 26,
     "metadata": {},
     "output_type": "execute_result"
    }
   ],
   "source": [
    "df3[\"CO GP\"].isna().sum()"
   ]
  },
  {
   "cell_type": "code",
   "execution_count": 31,
   "id": "prospective-belgium",
   "metadata": {},
   "outputs": [],
   "source": [
    "# Saving to CSV\n",
    "df.to_csv(\"Draft_NBA_semi_completed.csv\")"
   ]
  },
  {
   "cell_type": "code",
   "execution_count": 157,
   "id": "plain-jordan",
   "metadata": {},
   "outputs": [],
   "source": [
    "missing_stats = df[df[\"CO GP\"] == 0]\n",
    "# Saving to CSV\n",
    "missing_stats.to_csv(\"Missing_stats.csv\")"
   ]
  },
  {
   "cell_type": "code",
   "execution_count": 1,
   "id": "silent-vacation",
   "metadata": {},
   "outputs": [
    {
     "ename": "NameError",
     "evalue": "name 'pd' is not defined",
     "output_type": "error",
     "traceback": [
      "\u001b[1;31m---------------------------------------------------------------------------\u001b[0m",
      "\u001b[1;31mNameError\u001b[0m                                 Traceback (most recent call last)",
      "\u001b[1;32m<ipython-input-1-cb7a0eca9b8c>\u001b[0m in \u001b[0;36m<module>\u001b[1;34m\u001b[0m\n\u001b[0;32m      1\u001b[0m \u001b[1;31m# Saving hand completed CSV to df\u001b[0m\u001b[1;33m\u001b[0m\u001b[1;33m\u001b[0m\u001b[1;33m\u001b[0m\u001b[0m\n\u001b[1;32m----> 2\u001b[1;33m \u001b[0mdf3\u001b[0m \u001b[1;33m=\u001b[0m \u001b[0mpd\u001b[0m\u001b[1;33m.\u001b[0m\u001b[0mread_csv\u001b[0m\u001b[1;33m(\u001b[0m\u001b[1;34m\"Missing_stats_hand_completion.csv\"\u001b[0m\u001b[1;33m)\u001b[0m\u001b[1;33m\u001b[0m\u001b[1;33m\u001b[0m\u001b[0m\n\u001b[0m",
      "\u001b[1;31mNameError\u001b[0m: name 'pd' is not defined"
     ]
    }
   ],
   "source": [
    "# Saving hand completed CSV to df\n",
    "df3 = pd.read_csv(\"Missing_stats_hand_completion.csv\")"
   ]
  },
  {
   "cell_type": "code",
   "execution_count": 26,
   "id": "after-search",
   "metadata": {},
   "outputs": [],
   "source": [
    "# Removing first column of df3 which is useless, to get the same structure for all dfs\n",
    "df3.drop(\"Line\", inplace = True, axis = 1)"
   ]
  },
  {
   "cell_type": "code",
   "execution_count": null,
   "id": "perfect-diagnosis",
   "metadata": {},
   "outputs": [],
   "source": []
  },
  {
   "cell_type": "code",
   "execution_count": 32,
   "id": "incorrect-island",
   "metadata": {},
   "outputs": [
    {
     "ename": "ValueError",
     "evalue": "could not convert string to float: 'True 0.0'",
     "output_type": "error",
     "traceback": [
      "\u001b[1;31m---------------------------------------------------------------------------\u001b[0m",
      "\u001b[1;31mValueError\u001b[0m                                Traceback (most recent call last)",
      "\u001b[1;32m<ipython-input-32-fd272fa76616>\u001b[0m in \u001b[0;36m<module>\u001b[1;34m\u001b[0m\n\u001b[0;32m     49\u001b[0m     \u001b[1;31m# Blocks per game\u001b[0m\u001b[1;33m\u001b[0m\u001b[1;33m\u001b[0m\u001b[1;33m\u001b[0m\u001b[0m\n\u001b[0;32m     50\u001b[0m     \u001b[1;32mif\u001b[0m \u001b[0mdf3\u001b[0m\u001b[1;33m.\u001b[0m\u001b[0miloc\u001b[0m\u001b[1;33m[\u001b[0m\u001b[0mi\u001b[0m\u001b[1;33m,\u001b[0m \u001b[1;36m45\u001b[0m\u001b[1;33m]\u001b[0m \u001b[1;33m!=\u001b[0m \u001b[1;36m0\u001b[0m\u001b[1;33m:\u001b[0m\u001b[1;33m\u001b[0m\u001b[1;33m\u001b[0m\u001b[0m\n\u001b[1;32m---> 51\u001b[1;33m         \u001b[0mdf\u001b[0m\u001b[1;33m.\u001b[0m\u001b[0miat\u001b[0m\u001b[1;33m[\u001b[0m\u001b[0mindex\u001b[0m\u001b[1;33m,\u001b[0m \u001b[1;36m45\u001b[0m\u001b[1;33m]\u001b[0m \u001b[1;33m=\u001b[0m \u001b[0mdf3\u001b[0m\u001b[1;33m.\u001b[0m\u001b[0miloc\u001b[0m\u001b[1;33m[\u001b[0m\u001b[0mi\u001b[0m\u001b[1;33m,\u001b[0m \u001b[1;36m45\u001b[0m\u001b[1;33m]\u001b[0m\u001b[1;33m\u001b[0m\u001b[1;33m\u001b[0m\u001b[0m\n\u001b[0m\u001b[0;32m     52\u001b[0m     \u001b[1;31m# Turnovers per game\u001b[0m\u001b[1;33m\u001b[0m\u001b[1;33m\u001b[0m\u001b[1;33m\u001b[0m\u001b[0m\n\u001b[0;32m     53\u001b[0m     \u001b[1;32mif\u001b[0m \u001b[0mdf3\u001b[0m\u001b[1;33m.\u001b[0m\u001b[0miloc\u001b[0m\u001b[1;33m[\u001b[0m\u001b[0mi\u001b[0m\u001b[1;33m,\u001b[0m \u001b[1;36m46\u001b[0m\u001b[1;33m]\u001b[0m \u001b[1;33m!=\u001b[0m \u001b[1;36m0\u001b[0m\u001b[1;33m:\u001b[0m\u001b[1;33m\u001b[0m\u001b[1;33m\u001b[0m\u001b[0m\n",
      "\u001b[1;32m~\\miniconda3\\lib\\site-packages\\pandas\\core\\indexing.py\u001b[0m in \u001b[0;36m__setitem__\u001b[1;34m(self, key, value)\u001b[0m\n\u001b[0;32m   2116\u001b[0m             \u001b[1;32mraise\u001b[0m \u001b[0mValueError\u001b[0m\u001b[1;33m(\u001b[0m\u001b[1;34m\"Not enough indexers for scalar access (setting)!\"\u001b[0m\u001b[1;33m)\u001b[0m\u001b[1;33m\u001b[0m\u001b[1;33m\u001b[0m\u001b[0m\n\u001b[0;32m   2117\u001b[0m \u001b[1;33m\u001b[0m\u001b[0m\n\u001b[1;32m-> 2118\u001b[1;33m         \u001b[0mself\u001b[0m\u001b[1;33m.\u001b[0m\u001b[0mobj\u001b[0m\u001b[1;33m.\u001b[0m\u001b[0m_set_value\u001b[0m\u001b[1;33m(\u001b[0m\u001b[1;33m*\u001b[0m\u001b[0mkey\u001b[0m\u001b[1;33m,\u001b[0m \u001b[0mvalue\u001b[0m\u001b[1;33m=\u001b[0m\u001b[0mvalue\u001b[0m\u001b[1;33m,\u001b[0m \u001b[0mtakeable\u001b[0m\u001b[1;33m=\u001b[0m\u001b[0mself\u001b[0m\u001b[1;33m.\u001b[0m\u001b[0m_takeable\u001b[0m\u001b[1;33m)\u001b[0m\u001b[1;33m\u001b[0m\u001b[1;33m\u001b[0m\u001b[0m\n\u001b[0m\u001b[0;32m   2119\u001b[0m \u001b[1;33m\u001b[0m\u001b[0m\n\u001b[0;32m   2120\u001b[0m \u001b[1;33m\u001b[0m\u001b[0m\n",
      "\u001b[1;32m~\\miniconda3\\lib\\site-packages\\pandas\\core\\frame.py\u001b[0m in \u001b[0;36m_set_value\u001b[1;34m(self, index, col, value, takeable)\u001b[0m\n\u001b[0;32m   3260\u001b[0m             \u001b[1;32mif\u001b[0m \u001b[0mtakeable\u001b[0m \u001b[1;32mis\u001b[0m \u001b[1;32mTrue\u001b[0m\u001b[1;33m:\u001b[0m\u001b[1;33m\u001b[0m\u001b[1;33m\u001b[0m\u001b[0m\n\u001b[0;32m   3261\u001b[0m                 \u001b[0mseries\u001b[0m \u001b[1;33m=\u001b[0m \u001b[0mself\u001b[0m\u001b[1;33m.\u001b[0m\u001b[0m_ixs\u001b[0m\u001b[1;33m(\u001b[0m\u001b[0mcol\u001b[0m\u001b[1;33m,\u001b[0m \u001b[0maxis\u001b[0m\u001b[1;33m=\u001b[0m\u001b[1;36m1\u001b[0m\u001b[1;33m)\u001b[0m\u001b[1;33m\u001b[0m\u001b[1;33m\u001b[0m\u001b[0m\n\u001b[1;32m-> 3262\u001b[1;33m                 \u001b[0mseries\u001b[0m\u001b[1;33m.\u001b[0m\u001b[0m_set_value\u001b[0m\u001b[1;33m(\u001b[0m\u001b[0mindex\u001b[0m\u001b[1;33m,\u001b[0m \u001b[0mvalue\u001b[0m\u001b[1;33m,\u001b[0m \u001b[0mtakeable\u001b[0m\u001b[1;33m=\u001b[0m\u001b[1;32mTrue\u001b[0m\u001b[1;33m)\u001b[0m\u001b[1;33m\u001b[0m\u001b[1;33m\u001b[0m\u001b[0m\n\u001b[0m\u001b[0;32m   3263\u001b[0m                 \u001b[1;32mreturn\u001b[0m\u001b[1;33m\u001b[0m\u001b[1;33m\u001b[0m\u001b[0m\n\u001b[0;32m   3264\u001b[0m \u001b[1;33m\u001b[0m\u001b[0m\n",
      "\u001b[1;32m~\\miniconda3\\lib\\site-packages\\pandas\\core\\series.py\u001b[0m in \u001b[0;36m_set_value\u001b[1;34m(self, label, value, takeable)\u001b[0m\n\u001b[0;32m   1066\u001b[0m         \u001b[1;32mtry\u001b[0m\u001b[1;33m:\u001b[0m\u001b[1;33m\u001b[0m\u001b[1;33m\u001b[0m\u001b[0m\n\u001b[0;32m   1067\u001b[0m             \u001b[1;32mif\u001b[0m \u001b[0mtakeable\u001b[0m\u001b[1;33m:\u001b[0m\u001b[1;33m\u001b[0m\u001b[1;33m\u001b[0m\u001b[0m\n\u001b[1;32m-> 1068\u001b[1;33m                 \u001b[0mself\u001b[0m\u001b[1;33m.\u001b[0m\u001b[0m_values\u001b[0m\u001b[1;33m[\u001b[0m\u001b[0mlabel\u001b[0m\u001b[1;33m]\u001b[0m \u001b[1;33m=\u001b[0m \u001b[0mvalue\u001b[0m\u001b[1;33m\u001b[0m\u001b[1;33m\u001b[0m\u001b[0m\n\u001b[0m\u001b[0;32m   1069\u001b[0m             \u001b[1;32melse\u001b[0m\u001b[1;33m:\u001b[0m\u001b[1;33m\u001b[0m\u001b[1;33m\u001b[0m\u001b[0m\n\u001b[0;32m   1070\u001b[0m                 \u001b[0mloc\u001b[0m \u001b[1;33m=\u001b[0m \u001b[0mself\u001b[0m\u001b[1;33m.\u001b[0m\u001b[0mindex\u001b[0m\u001b[1;33m.\u001b[0m\u001b[0mget_loc\u001b[0m\u001b[1;33m(\u001b[0m\u001b[0mlabel\u001b[0m\u001b[1;33m)\u001b[0m\u001b[1;33m\u001b[0m\u001b[1;33m\u001b[0m\u001b[0m\n",
      "\u001b[1;31mValueError\u001b[0m: could not convert string to float: 'True 0.0'"
     ]
    }
   ],
   "source": [
    "# Updating the first df with the values retrieved in the 3rd df\n",
    "# Looping through all records from 3rd df\n",
    "for i in range(0, 225):\n",
    "    # Find the player in the first df ang get his index\n",
    "    index = df.loc[df[\"ID\"] == df3.iloc[i, 0]].index[0]\n",
    "    # If no NBA profile, updating value with college profile link\n",
    "    if df.iloc[index, 3] == \"No NBA profile\":\n",
    "        df.iat[index, 3] = df3.iloc[i, 3]\n",
    "    # If position is missing in the first df but present in the second, replace value in 1st\n",
    "    if df.iloc[index, 7] == \"Pos Missing\" and df3.iloc[i, 7] != \"Pos Missing\":\n",
    "        df.iat[index, 7] = df3.iloc[i, 7]\n",
    "    # Same for height\n",
    "    if (df.iloc[index, 10] == \"Height unknown\" or df.iloc[index, 10] == \"(0.00m)\") and (df3.iloc[i, 10] != \"Height unknown\" and df3.iloc[i, 10] != \"Height still missing\" and df3.iloc[i, 10] != \"(0.00m)\"):\n",
    "        df.iat[index, 10] = df3.iloc[i, 10]\n",
    "    # Same for weight\n",
    "    if (df.iloc[index, 11] == \"Weight unknown\" or df.iloc[index, 11] == \"(0kg)\") and (df3.iloc[i, 11] != \"Weight unknown\" and df3.iloc[i, 11] != \"Weight still missing\" and df3.iloc[i, 11] != \"(0kg)\"):\n",
    "        df.iat[index, 11] = df3.iloc[i, 11]\n",
    "    # Same for nationality\n",
    "    if df.iloc[index, 8] == \"Nationality unknown\" and df3.iloc[i, 8] != \"Nationality unknown\":\n",
    "        df.iat[index, 8] = df3.iloc[i, 8]\n",
    "    # Replacing all college stats if found in df2\n",
    "    # Games played\n",
    "    if df3.iloc[i, 36] != 0:\n",
    "        df.iat[index, 36] = df3.iloc[i, 36]\n",
    "    # Minutes per game\n",
    "    if df3.iloc[i, 37] != 0:\n",
    "        df.iat[index, 37] = df3.iloc[i, 37]\n",
    "    # Points per game\n",
    "    if df3.iloc[i, 38] != 0:\n",
    "        df.iat[index, 38] = df3.iloc[i, 38]\n",
    "    # Field goal %\n",
    "    if df3.iloc[i, 39] != 0:\n",
    "        df.iat[index, 39] = df3.iloc[i, 39]\n",
    "    # 3pt %\n",
    "    if df3.iloc[i, 40] != 0:\n",
    "        df.iat[index, 40] = df3.iloc[i, 40]\n",
    "    # Free-throw %\n",
    "    if df3.iloc[i, 41] != 0:\n",
    "        df.iat[index, 41] = df3.iloc[i, 41]\n",
    "    # Rebounds per game\n",
    "    if df3.iloc[i, 42] != 0:\n",
    "        df.iat[index, 42] = df3.iloc[i, 42]\n",
    "    # Assists per game\n",
    "    if df3.iloc[i, 43] != 0:\n",
    "        df.iat[index, 43] = df3.iloc[i, 43]\n",
    "    # Steals per game\n",
    "    if df3.iloc[i, 44] != 0:\n",
    "        df.iat[index, 44] = df3.iloc[i, 44]\n",
    "    # Blocks per game\n",
    "    if df3.iloc[i, 45] != 0:\n",
    "        df.iat[index, 45] = df3.iloc[i, 45]\n",
    "    # Turnovers per game\n",
    "    if df3.iloc[i, 46] != 0:\n",
    "        df.iat[index, 46] = df3.iloc[i, 46]\n",
    "    # League before draft\n",
    "    if df3.iloc[i, 52] != \"\":\n",
    "        df.iat[index, 52] = df3.iloc[i, 52]"
   ]
  },
  {
   "cell_type": "code",
   "execution_count": 64,
   "id": "severe-threat",
   "metadata": {},
   "outputs": [],
   "source": [
    "# Importing the completed NBA draft csv\n",
    "df = pd.read_csv(\"Webscrapping_college_hand_completion.csv\")"
   ]
  },
  {
   "cell_type": "code",
   "execution_count": 65,
   "id": "architectural-timer",
   "metadata": {},
   "outputs": [],
   "source": [
    "# Formatting the position column\n",
    "# Creating empty list to store formatted strings\n",
    "position_list= []\n",
    "\n",
    "for i in df[\"Position\"]:\n",
    "    # Checking if '|' present in string, if true remove it + whitespace following it\n",
    "    if '|' in i:\n",
    "        i = i[2:]\n",
    "    # Generalization of position\n",
    "    if i == \"Shooting Guard\" or i == \"Point Guard\":\n",
    "        i = \"Guard\"\n",
    "    elif i == \"Small Forward\" or i == \"Power Forward\":\n",
    "        i = \"Forward\"\n",
    "    elif i == \"Point Guard/Shooting Guard\" or i == \"Shooting Guard/Point Guard\":\n",
    "        i = \"Guard\"\n",
    "    elif i == \"Small Forward/Power Forward\" or i == \"Power Forward/Small Forward\":\n",
    "        i = \"Forward\"\n",
    "    elif i == \"Small Forward/Shooting Guard\" or i == \"Shooting Guard/Small Forward\":\n",
    "        i = \"Forward-Guard\"\n",
    "    elif i == \"Center/Power Forward\" or i == \"Power Forward/Center\":\n",
    "        i = \"Center-Forward\"\n",
    "    elif i == \"Guard-Forward\":\n",
    "        i = \"Forward-Guard\"\n",
    "    elif i == \"Forward-Center\":\n",
    "        i = \"Center-Forward\"\n",
    "    elif i == \"Shooting Guaard\":\n",
    "        i = \"Guard\"\n",
    "    \n",
    "    position_list.append(i)\n",
    "\n",
    "# Assigning the new list values to the df position column\n",
    "df[\"Position\"] = position_list\n"
   ]
  },
  {
   "cell_type": "code",
   "execution_count": 66,
   "id": "valid-convergence",
   "metadata": {},
   "outputs": [],
   "source": [
    "# Converting the string elements from the Birthdate column to date type\n",
    "# Creating empty list to store the converted values\n",
    "birthdate_list = []\n",
    "\n",
    "for i in df[\"Birthdate\"]:\n",
    "    # Checking type of data : if value present, type = string / if value missing, type = float\n",
    "    if type(i) == float:\n",
    "        pass\n",
    "    elif i == \"Birthdate unknown\":\n",
    "        pass\n",
    "    else:\n",
    "        # Handling possibility that the date of death is indicated, in which case we want to remove it\n",
    "        if '-' in i:\n",
    "            split = i.split()\n",
    "            i = split[0]\n",
    "        # Parsing the string via the dateutil library to get a date\n",
    "        i = parse(i)\n",
    "        # Only keeping the date, getting rid of time\n",
    "        i = i.date()\n",
    "    # Adding to list\n",
    "    birthdate_list.append(i)\n",
    "\n",
    "# Assigning the new list values to the df birthdate column\n",
    "df[\"Birthdate\"] = birthdate_list\n",
    "\n",
    "            "
   ]
  },
  {
   "cell_type": "code",
   "execution_count": 67,
   "id": "boxed-tracker",
   "metadata": {},
   "outputs": [],
   "source": [
    "# Moving and formatting the height & weight columns\n",
    "# Popping them in order to reinsert them at the desired position later\n",
    "height = df.pop(\"Height\")\n",
    "weight = df.pop(\"Weight\")\n",
    "df.insert(8, \"Height\", height)\n",
    "df.insert(9, \"Weight\", weight)\n",
    "# Formatting the strings to convert them in float\n",
    "# Formatting height\n",
    "# Creating empty list that will store the values\n",
    "height_list = []\n",
    "weight_list = []\n",
    "for i in df[\"Height\"]:\n",
    "    # Normal string should be of length 7 with the following format (0.00m)\n",
    "    if len(i) != 7:\n",
    "        # Removing leading and ending whitespaces from the string\n",
    "        i = i.strip()\n",
    "    # Checking for an abnormal format     \n",
    "    if \" \" in i:\n",
    "        # If whitespace present in the string, removing it\n",
    "        i = i.replace(\" \", \"\")\n",
    "        # Checking for a missing parenthesis, adding it if true\n",
    "        if i[0] != '(':\n",
    "            i = '(' + i\n",
    "        # Checking for a missing dot, adding it if true\n",
    "        if '.' not in i:\n",
    "            i = i[:2] + '.' + i[2:]\n",
    "        # Checking for a missing m, adding it if true   \n",
    "        if 'm' not in i:\n",
    "            i = i[:5] + 'm' + i[5:]\n",
    "            \n",
    "    # Removing parenthesis and the meter symbol\n",
    "    i = i[1:5]\n",
    "    # Converting the remaining string to float\n",
    "    i = float(i)\n",
    "    # Displaying two decimals\n",
    "    i = \"%.2f\" % i\n",
    "    # Adding to list\n",
    "    height_list.append(i)\n",
    "    \n",
    "# Assigning the new list values to the df height column\n",
    "df[\"Height\"] = height_list\n",
    "\n",
    "\n",
    "# Formatting weight\n",
    "for j in df[\"Weight\"]:\n",
    "    # Checking type of data : if value present, type = string / if value missing, type = float\n",
    "    if type(j) == float:\n",
    "        pass\n",
    "    else:\n",
    "        # If whitespace present in the string, removing it\n",
    "        j = j.replace(\" \", \"\")\n",
    "        # Normal string should be of length 6 or 7 with the following formats (00kg) or (000kg)\n",
    "        if len(j) != 6 and len(j) != 7:\n",
    "            # Checking for a missing parenthesis, adding it if true\n",
    "            if j[0] != '(':\n",
    "                j = '(' + j\n",
    "        # Removing opening parenthesis\n",
    "        j = j[1:]\n",
    "        # Removing kg symbol and closing parenthesis\n",
    "        j = j[:-3]\n",
    "        # Converting string to int\n",
    "        j = int(j)\n",
    "    # Adding to list\n",
    "    weight_list.append(j)\n",
    "\n",
    "# Assigning the new list values to the df weight column\n",
    "df[\"Weight\"] = weight_list\n"
   ]
  },
  {
   "cell_type": "code",
   "execution_count": 68,
   "id": "mineral-rhythm",
   "metadata": {},
   "outputs": [],
   "source": [
    "# Moving the \"League before Draft column\"\n",
    "league = df.pop(\"League before Draft\")\n",
    "df.insert(5, \"League before Draft\", league)"
   ]
  },
  {
   "cell_type": "code",
   "execution_count": 69,
   "id": "dynamic-kingdom",
   "metadata": {},
   "outputs": [],
   "source": [
    "# Fixing the nationality data, first webscrapping gives the country but the second indicates nationality : convert everything to country as first webscrapping gives more data\n",
    "# Creating empty list that will store the values\n",
    "nationality_list = []\n",
    "\n",
    "for i in df[\"Nationality\"]:\n",
    "    if i == \"American\":\n",
    "        i = \"USA\"\n",
    "    elif i == \"Italian\":\n",
    "        i = \"Italy\"\n",
    "    elif i == \"Jamaican\":\n",
    "        i = \"Jamaica\"\n",
    "    elif i == \"Dominican\":\n",
    "        i = \"Dominican Republic\"\n",
    "    elif i == \"Russian\":\n",
    "        i = \"Russia\"\n",
    "    elif i == \"Canadian\":\n",
    "        i = \"Canada\"\n",
    "    elif i == \"Israeli\":\n",
    "        i = \"Israel\"\n",
    "    elif i == \"Virgin Islander\":\n",
    "        i = \"US Virgin Islands\"\n",
    "    elif i == \"Dutch\":\n",
    "        i = \"Netherlands\"\n",
    "    elif i == \"British\":\n",
    "        i = \"United Kingdom\"\n",
    "    elif i == \"French\":\n",
    "        i = \"France\"\n",
    "    elif i == \"Croatian\":\n",
    "        i = \"Croatia\"\n",
    "    elif i == \"German\":\n",
    "        i = \"Germany\"\n",
    "    elif i == \"Argentine\":\n",
    "        i = \"Argentina\"\n",
    "    elif i == \"Greek\":\n",
    "        i = \"Greece\"\n",
    "    elif i == \"Colombian\":\n",
    "        i = \"Colombia\"\n",
    "    elif i == \"Polish\":\n",
    "        i = \"Poland\"\n",
    "    elif i == \"Spanish\":\n",
    "        i = \"Spain\"\n",
    "    elif i == \"Georgian\":\n",
    "        i = \"Georgia\"\n",
    "    elif i == \"Ukrainian\":\n",
    "        i = \"Ukraine\"\n",
    "    elif i == \"Puerto Rican\":\n",
    "        i = \"Puerto Rico\"\n",
    "    elif i == \"Belarusian\":\n",
    "        i = \"Belarus\"\n",
    "    elif i == \"Finnish\":\n",
    "        i = \"Finland\"\n",
    "    elif i == \"Lithuanian\":\n",
    "        i = \"Lithuania\"\n",
    "    elif i == \"Bosnian\":\n",
    "        i = \"Bosnia and Herzegovina\"\n",
    "    elif i == \"Brazilian\":\n",
    "        i = \"Brazil\"\n",
    "    elif i == \"Turkish\":\n",
    "        i = \"Turkey\"\n",
    "    elif i == \"Montenegrin\":\n",
    "        i = \"Montenegro\"\n",
    "    elif i == \"Serbian\":\n",
    "        i = \"Serbia\"\n",
    "    elif i == \"Swedish\":\n",
    "        i = \"Sweden\"\n",
    "    elif i == \"Bosnia\":\n",
    "        i = \"Bosnia and Herzegovina\"\n",
    "    elif i == \"Congo\":\n",
    "        i = \"DRC\"\n",
    "    elif i == \"Argentine/Spanish\":\n",
    "        i = \"Argentina\"\n",
    "    \n",
    "    \n",
    "    # Adding to list\n",
    "    nationality_list.append(i)\n",
    "\n",
    "# Assigning the new list to the df nationality column\n",
    "df[\"Nationality\"] = nationality_list\n",
    "    "
   ]
  },
  {
   "cell_type": "code",
   "execution_count": 70,
   "id": "present-feeling",
   "metadata": {},
   "outputs": [],
   "source": [
    "# Handling awards columns to make each award match its designated column\n",
    "# Getting location of each award column\n",
    "mvp = df.columns.get_loc(\"MVP Awards\")\n",
    "all_nba = df.columns.get_loc(\"All-NBA Selections\")\n",
    "all_defensive = df.columns.get_loc(\"All-Defensive Selections\")\n",
    "finals_mvp = df.columns.get_loc(\"Finals MVP Awards\")\n",
    "hof = df.columns.get_loc(\"Hall of Fame Inductee\")\n",
    "\n",
    "for i in range(0, len(df[\"ID\"])):\n",
    "    mvp_award = 0\n",
    "    all_nba_sel = 0\n",
    "    all_defensive_sel = 0\n",
    "    finals_mvp_award = 0\n",
    "    hof_inductee = 0\n",
    "    # Checking first award column\n",
    "    if df.iloc[i, mvp] != '0':\n",
    "        award = df.iloc[i, mvp]\n",
    "        # Checking for corresponding award\n",
    "        if \"NBA Most Valuable Player\" in award:\n",
    "            # Keeping only number of times won\n",
    "            mvp_award = int(award[0])\n",
    "        elif \"All-NBA\" in award:\n",
    "            all_nba_sel = int(award[:2])\n",
    "        elif \"All-Defensive\" in award:\n",
    "            all_defensive_sel = int(award[:2])\n",
    "        elif \"NBA Finals\" in award:\n",
    "            finals_mvp_award = int(award[0])\n",
    "        elif \"Hall of Fame\" in award:\n",
    "            hof_inductee = 1\n",
    "        # If award found, check the next column\n",
    "        if df.iloc[i, all_nba] != '0':\n",
    "            award = df.iloc[i, all_nba]\n",
    "            if \"NBA Most Valuable Player\" in award:\n",
    "                # Keeping only number of times won\n",
    "                mvp_award = int(award[0])\n",
    "            elif \"All-NBA\" in award:\n",
    "                all_nba_sel = int(award[:2])\n",
    "            elif \"All-Defensive\" in award:\n",
    "                all_defensive_sel = int(award[:2])\n",
    "            elif \"NBA Finals\" in award:\n",
    "                finals_mvp_award = int(award[0])\n",
    "            elif \"Hall of Fame\" in award:\n",
    "                hof_inductee = 1\n",
    "            # If award found, check the next column\n",
    "            if df.iloc[i, all_defensive] != '0':\n",
    "                award = df.iloc[i, all_defensive]\n",
    "                if \"NBA Most Valuable Player\" in award:\n",
    "                    # Keeping only number of times won\n",
    "                    mvp_award = int(award[0])\n",
    "                elif \"All-NBA\" in award:\n",
    "                    all_nba_sel = int(award[:2])\n",
    "                elif \"All-Defensive\" in award:\n",
    "                    all_defensive_sel = int(award[2:])\n",
    "                elif \"NBA Finals\" in award:\n",
    "                    finals_mvp_award = int(award[0])\n",
    "                elif \"Hall of Fame\" in award:\n",
    "                    hof_inductee = 1\n",
    "                # If award found, check the next column\n",
    "                if df.iloc[i, finals_mvp] != '0':\n",
    "                    award = df.iloc[i, finals_mvp]\n",
    "                    if \"NBA Most Valuable Player\" in award:\n",
    "                        # Keeping only number of times won\n",
    "                        mvp_award = int(award[0])\n",
    "                    elif \"All-NBA\" in award:\n",
    "                        all_nba_sel = int(award[:2])\n",
    "                    elif \"All-Defensive\" in award:\n",
    "                        all_defensive_sel = int(award[:2])\n",
    "                    elif \"NBA Finals\" in award:\n",
    "                        finals_mvp_award = int(award[0])\n",
    "                    elif \"Hall of Fame\" in award:\n",
    "                        hof_inductee = 1\n",
    "                    # If award found, check the next column\n",
    "                    if df.iloc[i, hof] != '0':\n",
    "                        award = df.iloc[i, hof]\n",
    "                        if \"NBA Most Valuable Player\" in award:\n",
    "                            # Keeping only number of times won\n",
    "                            mvp_award = int(award[0])\n",
    "                        elif \"All-NBA\" in award:\n",
    "                            all_nba_sel = int(award[:2])\n",
    "                        elif \"All-Defensive\" in award:\n",
    "                            all_defensive_sel = int(award[:2])\n",
    "                        elif \"NBA Finals\" in award:\n",
    "                            finals_mvp_award = int(award[0])\n",
    "                        elif \"Hall of Fame\" in award:\n",
    "                            hof_inductee = 1\n",
    "                    else:\n",
    "                        pass\n",
    "                else:\n",
    "                    pass\n",
    "            else:\n",
    "               pass\n",
    "        else:\n",
    "            pass\n",
    "        # Replacing values in the row\n",
    "        df.iat[i, mvp] = mvp_award\n",
    "        df.iat[i, all_nba] = all_nba_sel\n",
    "        df.iat[i, all_defensive] = all_defensive_sel\n",
    "        df.iat[i, finals_mvp] = finals_mvp_award\n",
    "        df.iat[i, hof] = hof_inductee                                             "
   ]
  },
  {
   "cell_type": "code",
   "execution_count": 71,
   "id": "valid-programming",
   "metadata": {},
   "outputs": [],
   "source": [
    "# Handling NaN and null values\n",
    "# First webscrapping can retrieve two types of zeros, a \"true\" one which indicates that the statistic was registered but the player never took a 3pt shot or made a block and a \"false\" one (noted -0.0) which indicates that the statistic is not available\n",
    "# As -0 and 0 makes no difference in float type, conversion to string to make the distinction is needed\n",
    "df.loc[:, \"GP\":\"CO TOPG\"] = df.loc[:, \"GP\":\"CO TOPG\"].astype(str)\n",
    "# Replace all \"-0.0\" strings by NaN\n",
    "df.loc[:, \"GP\":\"CO TOPG\"] = df.loc[:, \"GP\":\"CO TOPG\"].replace(\"-0.0\", np.nan)"
   ]
  },
  {
   "cell_type": "code",
   "execution_count": 72,
   "id": "color-helena",
   "metadata": {},
   "outputs": [],
   "source": [
    "# Reconverting all game stats to float\n",
    "# Removing an extra dot in one data of the df which made the conversion fail\n",
    "df.iat[1856, 55] = df.iloc[1856, 55][:-1]\n",
    "# Removing a whitespace in one data of the df which made the conversion fail\n",
    "df.iat[549, 56] = df.iloc[549, 56].replace(\" \", \"\")\n",
    "# Removing whitespace from empty string\n",
    "df.loc[:, \"GP\":\"CO TOPG\"] = df.loc[:, \"GP\":\"CO TOPG\"].replace(' ', '')\n",
    "# Replacing empty strings by NaN\n",
    "df.loc[:, \"GP\":\"CO TOPG\"] = df.loc[:, \"GP\":\"CO TOPG\"].replace('', np.nan)\n",
    "# Replacing '---' string by NaN\n",
    "df.loc[:, \"GP\":\"CO TOPG\"] = df.loc[:, \"GP\":\"CO TOPG\"].replace('---', np.nan)\n",
    "# Replacing '----' string by NaN\n",
    "df.loc[:, \"GP\":\"CO TOPG\"] = df.loc[:, \"GP\":\"CO TOPG\"].replace('----', np.nan)\n",
    "# Converting all stats to float\n",
    "df.loc[:, \"GP\":\"CO TOPG\"] = df.loc[:, \"GP\":\"CO TOPG\"].astype(float)"
   ]
  },
  {
   "cell_type": "code",
   "execution_count": 73,
   "id": "coupled-election",
   "metadata": {},
   "outputs": [],
   "source": [
    "# Filling NaN values in specific columns\n",
    "df[\"GP\"].fillna(0.0, inplace = True)\n",
    "df[\"PO GP\"].fillna(0.0, inplace = True)"
   ]
  },
  {
   "cell_type": "code",
   "execution_count": 74,
   "id": "extended-architect",
   "metadata": {},
   "outputs": [],
   "source": [
    "# Ajout d'une nouvelle colonne qui indique le nom actuel de l'équipe qui a draft le joueur\n",
    "# Liste regroupant toutes les équipes actuelles\n",
    "franchises = [\"Utah Jazz\", \"Los Angeles Lakers\", \"Los Angeles Clippers\", \"Phoenix Suns\", \"Denver Nuggets\", \"Dallas Mavericks\", \"San Antonio Spurs\", \"Houston Rockets\", \"Sacramento Kings\", \"New Orleans Pelicans\", \"Golden State Warriors\", \"Oklahoma City Thunder\", \"Portland Trail Blazers\", \"Memphis Grizzlies\", \"Minnesota Timberwolves\", \"Philadelphia 76ers\", \"Brooklyn Nets\", \"Milwaukee Bucks\", \"Miami Heat\", \"Toronto Raptors\", \"Boston Celtics\", \"Atlanta Hawks\", \"Chicago Bulls\", \"Cleveland Cavaliers\", \"Detroit Pistons\", \"Indiana Pacers\", \"New York Knicks\", \"Washington Wizards\", \"Orlando Magic\", \"Charlotte Hornets\"]\n",
    "current_franchise = []\n",
    "for i in range(0, 2500):\n",
    "    # If drafting franchise is also a current one, add it to new list\n",
    "    if df.iloc[i, 2] in franchises:\n",
    "        current_franchise.append(df.iloc[i, 2])\n",
    "    # Else, replacing it by its current name\n",
    "    elif df.iloc[i, 2] == \"San Diego Rockets\":\n",
    "        current_franchise.append(\"Houston Rockets\")\n",
    "    elif df.iloc[i, 2] == \"Seattle SuperSonics\":\n",
    "        current_franchise.append(\"Oklahoma City Thunder\")\n",
    "    elif df.iloc[i, 2] == \"Baltimore Bullets\" or df.iloc[i, 2] == \"Capital Bullets\" or df.iloc[i, 2] == \"Washington Bullets\":\n",
    "        current_franchise.append(\"Washington Wizards\")\n",
    "    elif df.iloc[i, 2] == \"Buffalo Braves\" or df.iloc[i, 2] == \"San Diego Clippers\" or df.iloc[i, 2] == \"LA Clippers\":\n",
    "        current_franchise.append(\"Los Angeles Clippers\")\n",
    "    elif df.iloc[i, 2] == \"San Francisco Warriors\":\n",
    "        current_franchise.append(\"Golden State Warriors\")\n",
    "    elif df.iloc[i, 2] == \"Kansas City-Omaha Kings\" or df.iloc[i, 2] == \"Kansas City Kings\" or df.iloc[i, 2] == \"Cincinnati Royals\":\n",
    "        current_franchise.append(\"Sacramento Kings\")\n",
    "    elif df.iloc[i, 2] == \"New Orleans Jazz\":\n",
    "        current_franchise.append(\"Utah Jazz\")\n",
    "    elif df.iloc[i, 2] == \"New Jersey Nets\":\n",
    "        current_franchise.append(\"Brooklyn Nets\")\n",
    "    elif df.iloc[i, 2] == \"Vancouver Grizzlies\":\n",
    "        current_franchise.append(\"Memphis Grizzlies\")\n",
    "    elif df.iloc[i, 2] == \"New Orleans Hornets\" or df.iloc[i, 2] == \"New Orleans/Oklahoma City Hornets\":\n",
    "        current_franchise.append(\"New Orleans Pelicans\")\n",
    "    elif df.iloc[i, 2] == \"Charlotte Bobcats\":\n",
    "        current_franchise.append(\"Charlotte Hornets\")\n",
    "        \n",
    "# Adding new column to df\n",
    "df.insert(3, \"Franchise current name\", current_franchise, True)   \n",
    "        "
   ]
  },
  {
   "cell_type": "code",
   "execution_count": 75,
   "id": "female-attitude",
   "metadata": {},
   "outputs": [],
   "source": [
    "# Adding age at draft column\n",
    "draft_age = []\n",
    "for i in range(0, 2500):\n",
    "    # Adding historical draft date to the draft year\n",
    "    draft_date = \"Jun 30, \" + str(df.iloc[i, 7])\n",
    "    # Converting it to datetime type\n",
    "    draft_date = parse(draft_date)\n",
    "    # Keeping only the date\n",
    "    draft_date = draft_date.date()\n",
    "    # Making sure birthdate is known\n",
    "    if type(df.iloc[i, 13]) != float:\n",
    "        age = draft_date - df.iloc[i, 13]\n",
    "        # Result is of timedelta type, converting it to int by dividing by another timedelta value\n",
    "        age = age / timedelta(days = 1)\n",
    "        # Result is in days, converting to years\n",
    "        age = round(age / 365, 1)\n",
    "        draft_age.append(age)\n",
    "    else:\n",
    "        draft_age.append(np.nan)\n",
    "\n",
    "# Adding new column to df\n",
    "df.insert(6, \"Age at Draft\", draft_age)"
   ]
  },
  {
   "cell_type": "code",
   "execution_count": 76,
   "id": "confused-closer",
   "metadata": {},
   "outputs": [
    {
     "data": {
      "text/html": [
       "<div>\n",
       "<style scoped>\n",
       "    .dataframe tbody tr th:only-of-type {\n",
       "        vertical-align: middle;\n",
       "    }\n",
       "\n",
       "    .dataframe tbody tr th {\n",
       "        vertical-align: top;\n",
       "    }\n",
       "\n",
       "    .dataframe thead th {\n",
       "        text-align: right;\n",
       "    }\n",
       "</style>\n",
       "<table border=\"1\" class=\"dataframe\">\n",
       "  <thead>\n",
       "    <tr style=\"text-align: right;\">\n",
       "      <th></th>\n",
       "      <th>ID</th>\n",
       "      <th>Player Name</th>\n",
       "      <th>Drafting Team</th>\n",
       "      <th>Franchise current name</th>\n",
       "      <th>NBA profile</th>\n",
       "      <th>College / High School</th>\n",
       "      <th>Age at Draft</th>\n",
       "      <th>League before Draft</th>\n",
       "      <th>Draft Year</th>\n",
       "      <th>Pick Number</th>\n",
       "      <th>...</th>\n",
       "      <th>CO APG</th>\n",
       "      <th>CO SPG</th>\n",
       "      <th>CO BPG</th>\n",
       "      <th>CO TOPG</th>\n",
       "      <th>MVP Awards</th>\n",
       "      <th>All-NBA Selections</th>\n",
       "      <th>All-Defensive Selections</th>\n",
       "      <th>Finals MVP Awards</th>\n",
       "      <th>Hall of Fame Inductee</th>\n",
       "      <th>Reason no stats</th>\n",
       "    </tr>\n",
       "  </thead>\n",
       "  <tbody>\n",
       "    <tr>\n",
       "      <th>0</th>\n",
       "      <td>1</td>\n",
       "      <td>Bob Lanier</td>\n",
       "      <td>Detroit Pistons</td>\n",
       "      <td>Detroit Pistons</td>\n",
       "      <td>/stats/player/600005/</td>\n",
       "      <td>St. Bonaventure</td>\n",
       "      <td>21.8</td>\n",
       "      <td>College</td>\n",
       "      <td>1970</td>\n",
       "      <td>1</td>\n",
       "      <td>...</td>\n",
       "      <td>NaN</td>\n",
       "      <td>NaN</td>\n",
       "      <td>NaN</td>\n",
       "      <td>NaN</td>\n",
       "      <td>0</td>\n",
       "      <td>0</td>\n",
       "      <td>0</td>\n",
       "      <td>0</td>\n",
       "      <td>1</td>\n",
       "      <td>Too many results</td>\n",
       "    </tr>\n",
       "    <tr>\n",
       "      <th>1</th>\n",
       "      <td>2</td>\n",
       "      <td>Rudy Tomjanovich</td>\n",
       "      <td>San Diego Rockets</td>\n",
       "      <td>Houston Rockets</td>\n",
       "      <td>/stats/player/78350/</td>\n",
       "      <td>Michigan</td>\n",
       "      <td>21.6</td>\n",
       "      <td>College</td>\n",
       "      <td>1970</td>\n",
       "      <td>2</td>\n",
       "      <td>...</td>\n",
       "      <td>NaN</td>\n",
       "      <td>NaN</td>\n",
       "      <td>NaN</td>\n",
       "      <td>NaN</td>\n",
       "      <td>0</td>\n",
       "      <td>0</td>\n",
       "      <td>0</td>\n",
       "      <td>0</td>\n",
       "      <td>0</td>\n",
       "      <td>NaN</td>\n",
       "    </tr>\n",
       "    <tr>\n",
       "      <th>2</th>\n",
       "      <td>3</td>\n",
       "      <td>Pete Maravich</td>\n",
       "      <td>Atlanta Hawks</td>\n",
       "      <td>Atlanta Hawks</td>\n",
       "      <td>/stats/player/77459/</td>\n",
       "      <td>Louisiana State</td>\n",
       "      <td>23.0</td>\n",
       "      <td>College</td>\n",
       "      <td>1970</td>\n",
       "      <td>3</td>\n",
       "      <td>...</td>\n",
       "      <td>6.2</td>\n",
       "      <td>NaN</td>\n",
       "      <td>NaN</td>\n",
       "      <td>NaN</td>\n",
       "      <td>0</td>\n",
       "      <td>4</td>\n",
       "      <td>0</td>\n",
       "      <td>0</td>\n",
       "      <td>1</td>\n",
       "      <td>NaN</td>\n",
       "    </tr>\n",
       "    <tr>\n",
       "      <th>3</th>\n",
       "      <td>4</td>\n",
       "      <td>Dave Cowens</td>\n",
       "      <td>Boston Celtics</td>\n",
       "      <td>Boston Celtics</td>\n",
       "      <td>/stats/player/76462/</td>\n",
       "      <td>Florida State</td>\n",
       "      <td>21.7</td>\n",
       "      <td>College</td>\n",
       "      <td>1970</td>\n",
       "      <td>4</td>\n",
       "      <td>...</td>\n",
       "      <td>NaN</td>\n",
       "      <td>NaN</td>\n",
       "      <td>NaN</td>\n",
       "      <td>NaN</td>\n",
       "      <td>1</td>\n",
       "      <td>3</td>\n",
       "      <td>3</td>\n",
       "      <td>0</td>\n",
       "      <td>1</td>\n",
       "      <td>NaN</td>\n",
       "    </tr>\n",
       "    <tr>\n",
       "      <th>4</th>\n",
       "      <td>5</td>\n",
       "      <td>Sam Lacey</td>\n",
       "      <td>Cincinnati Royals</td>\n",
       "      <td>Sacramento Kings</td>\n",
       "      <td>/stats/player/77326/</td>\n",
       "      <td>New Mexico State</td>\n",
       "      <td>22.3</td>\n",
       "      <td>College</td>\n",
       "      <td>1970</td>\n",
       "      <td>5</td>\n",
       "      <td>...</td>\n",
       "      <td>1.2</td>\n",
       "      <td>NaN</td>\n",
       "      <td>NaN</td>\n",
       "      <td>NaN</td>\n",
       "      <td>0</td>\n",
       "      <td>0</td>\n",
       "      <td>0</td>\n",
       "      <td>0</td>\n",
       "      <td>0</td>\n",
       "      <td>NaN</td>\n",
       "    </tr>\n",
       "  </tbody>\n",
       "</table>\n",
       "<p>5 rows × 69 columns</p>\n",
       "</div>"
      ],
      "text/plain": [
       "   ID       Player Name      Drafting Team Franchise current name  \\\n",
       "0   1        Bob Lanier    Detroit Pistons        Detroit Pistons   \n",
       "1   2  Rudy Tomjanovich  San Diego Rockets        Houston Rockets   \n",
       "2   3     Pete Maravich      Atlanta Hawks          Atlanta Hawks   \n",
       "3   4       Dave Cowens     Boston Celtics         Boston Celtics   \n",
       "4   5         Sam Lacey  Cincinnati Royals       Sacramento Kings   \n",
       "\n",
       "             NBA profile College / High School  Age at Draft  \\\n",
       "0  /stats/player/600005/       St. Bonaventure          21.8   \n",
       "1   /stats/player/78350/              Michigan          21.6   \n",
       "2   /stats/player/77459/       Louisiana State          23.0   \n",
       "3   /stats/player/76462/         Florida State          21.7   \n",
       "4   /stats/player/77326/      New Mexico State          22.3   \n",
       "\n",
       "  League before Draft  Draft Year  Pick Number  ... CO APG CO SPG  CO BPG  \\\n",
       "0             College        1970            1  ...    NaN    NaN     NaN   \n",
       "1             College        1970            2  ...    NaN    NaN     NaN   \n",
       "2             College        1970            3  ...    6.2    NaN     NaN   \n",
       "3             College        1970            4  ...    NaN    NaN     NaN   \n",
       "4             College        1970            5  ...    1.2    NaN     NaN   \n",
       "\n",
       "  CO TOPG MVP Awards All-NBA Selections  All-Defensive Selections  \\\n",
       "0     NaN          0                  0                         0   \n",
       "1     NaN          0                  0                         0   \n",
       "2     NaN          0                  4                         0   \n",
       "3     NaN          1                  3                         3   \n",
       "4     NaN          0                  0                         0   \n",
       "\n",
       "   Finals MVP Awards  Hall of Fame Inductee   Reason no stats  \n",
       "0                  0                      1  Too many results  \n",
       "1                  0                      0               NaN  \n",
       "2                  0                      1               NaN  \n",
       "3                  0                      1               NaN  \n",
       "4                  0                      0               NaN  \n",
       "\n",
       "[5 rows x 69 columns]"
      ]
     },
     "execution_count": 76,
     "metadata": {},
     "output_type": "execute_result"
    }
   ],
   "source": [
    "# Adding continent column\n",
    "continent = []\n",
    "europe = [\"Spain\", \"Lithuania\", \"Greece\", \"Italy\", \"Serbia\", \"Croatia\", \"Netherlands\", \"Romania\", \"Russia\", \"Ukraine\", \"Estonia\", \"France\", \"Slovenia\", \"Germany\", \"United Kingdom\", \"Bosnia and Herzegovina\", \"Finland\", \"Czech Republic\", \"Scotland\", \"Montenegro\", \"Poland\", \"Latvia\", \"Switzerland\", \"Belarus\", \"Sweden\", \"Austria\", \"Bosnia\"]\n",
    "africa = [\"Nigeria\", \"DRC\", \"Senegal\", \"Mali\", \"Gabon\", \"Republic of the Congo\", \"Cameroon\", \"Tanzania\", \"South Sudan\", \"Angola\", \"Sudan\", \"Cabo Verde\"]\n",
    "america = [\"Canada\", \"US Virgin Islands\", \"Jamaica\", \"Dominican Republic\", \"Colombia\", \"Argentina\", \"St. Vincent & Grenadines\", \"Mexico\", \"Haiti\", \"Brazil\", \"Puerto Rico\", \"Venezuela\", \"Bahamas\"]\n",
    "asia = [\"Israel\", \"Turkey\", \"Georgia\", \"China\", \"South Korea\", \"Japan\"]\n",
    "oceania = [\"Australia\", \"New Zealand\"]\n",
    "\n",
    "for i in df[\"Nationality\"]:\n",
    "    # Checking if value is different than US which will be a separate value\n",
    "    if i != \"USA\":\n",
    "        if i in europe:\n",
    "            continent.append(\"Europe\")\n",
    "        elif i in africa:\n",
    "            continent.append(\"Africa\")\n",
    "        elif i in america:\n",
    "            continent.append(\"America\")\n",
    "        elif i in asia:\n",
    "            continent.append(\"Asia\")\n",
    "        elif i in oceania:\n",
    "            continent.append(\"Oceania\")\n",
    "        else:\n",
    "            print(i)\n",
    "            continent.append(\"Unknown country\")\n",
    "    else:\n",
    "        continent.append(\"USA\")\n",
    "\n",
    "# Adding new column to df\n",
    "df.insert(14, \"Continent\", continent)\n",
    "        "
   ]
  },
  {
   "cell_type": "code",
   "execution_count": 79,
   "id": "coastal-labor",
   "metadata": {},
   "outputs": [],
   "source": [
    "# Saving to final csv\n",
    "df.to_csv(\"Completed_NBA_Draft.csv\")"
   ]
  }
 ],
 "metadata": {
  "kernelspec": {
   "display_name": "Python 3",
   "language": "python",
   "name": "python3"
  },
  "language_info": {
   "codemirror_mode": {
    "name": "ipython",
    "version": 3
   },
   "file_extension": ".py",
   "mimetype": "text/x-python",
   "name": "python",
   "nbconvert_exporter": "python",
   "pygments_lexer": "ipython3",
   "version": "3.8.5"
  }
 },
 "nbformat": 4,
 "nbformat_minor": 5
}
